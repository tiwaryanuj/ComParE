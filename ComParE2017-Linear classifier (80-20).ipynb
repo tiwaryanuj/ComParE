{
 "cells": [
  {
   "cell_type": "code",
   "execution_count": 7,
   "metadata": {
    "collapsed": true
   },
   "outputs": [],
   "source": [
    "import matplotlib.pyplot as plt\n",
    "import numpy as np\n",
    "import pandas as pd\n",
    "#import matplotlib.pyplot as plt\n",
    "#from matplotlib import style\n",
    "from sklearn import preprocessing, cross_validation, svm\n",
    "from sklearn import linear_model "
   ]
  },
  {
   "cell_type": "code",
   "execution_count": 8,
   "metadata": {
    "collapsed": false
   },
   "outputs": [],
   "source": [
    "devel=pd.read_csv('ComParE2017_devel.csv')\n",
    "train=pd.read_csv('ComParE2017_train.csv')"
   ]
  },
  {
   "cell_type": "code",
   "execution_count": 9,
   "metadata": {
    "collapsed": false
   },
   "outputs": [
    {
     "data": {
      "text/html": [
       "<div>\n",
       "<table border=\"1\" class=\"dataframe\">\n",
       "  <thead>\n",
       "    <tr style=\"text-align: right;\">\n",
       "      <th></th>\n",
       "      <th>1</th>\n",
       "      <th>2</th>\n",
       "      <th>3</th>\n",
       "      <th>4</th>\n",
       "      <th>5</th>\n",
       "      <th>6</th>\n",
       "      <th>7</th>\n",
       "      <th>8</th>\n",
       "      <th>9</th>\n",
       "      <th>10</th>\n",
       "      <th>...</th>\n",
       "      <th>6365</th>\n",
       "      <th>6366</th>\n",
       "      <th>6367</th>\n",
       "      <th>6368</th>\n",
       "      <th>6369</th>\n",
       "      <th>6370</th>\n",
       "      <th>6371</th>\n",
       "      <th>6372</th>\n",
       "      <th>6373</th>\n",
       "      <th>y</th>\n",
       "    </tr>\n",
       "  </thead>\n",
       "  <tbody>\n",
       "    <tr>\n",
       "      <th>0</th>\n",
       "      <td>2.32</td>\n",
       "      <td>0.0769</td>\n",
       "      <td>0.5600</td>\n",
       "      <td>0.554</td>\n",
       "      <td>0.666</td>\n",
       "      <td>1.010</td>\n",
       "      <td>0.112</td>\n",
       "      <td>0.347</td>\n",
       "      <td>0.458</td>\n",
       "      <td>0.3630</td>\n",
       "      <td>...</td>\n",
       "      <td>0.879</td>\n",
       "      <td>1.98</td>\n",
       "      <td>2.02</td>\n",
       "      <td>-18.5</td>\n",
       "      <td>0.458</td>\n",
       "      <td>91.3</td>\n",
       "      <td>49.6</td>\n",
       "      <td>78.1</td>\n",
       "      <td>49.1</td>\n",
       "      <td>0</td>\n",
       "    </tr>\n",
       "    <tr>\n",
       "      <th>1</th>\n",
       "      <td>2.86</td>\n",
       "      <td>0.9780</td>\n",
       "      <td>0.8390</td>\n",
       "      <td>0.776</td>\n",
       "      <td>1.620</td>\n",
       "      <td>2.340</td>\n",
       "      <td>0.846</td>\n",
       "      <td>0.723</td>\n",
       "      <td>1.570</td>\n",
       "      <td>0.5590</td>\n",
       "      <td>...</td>\n",
       "      <td>0.490</td>\n",
       "      <td>2.45</td>\n",
       "      <td>2.60</td>\n",
       "      <td>-13.5</td>\n",
       "      <td>0.437</td>\n",
       "      <td>155.0</td>\n",
       "      <td>79.7</td>\n",
       "      <td>132.0</td>\n",
       "      <td>52.4</td>\n",
       "      <td>1</td>\n",
       "    </tr>\n",
       "    <tr>\n",
       "      <th>2</th>\n",
       "      <td>2.03</td>\n",
       "      <td>0.7420</td>\n",
       "      <td>0.0000</td>\n",
       "      <td>0.932</td>\n",
       "      <td>1.160</td>\n",
       "      <td>1.450</td>\n",
       "      <td>0.230</td>\n",
       "      <td>0.285</td>\n",
       "      <td>0.515</td>\n",
       "      <td>0.2640</td>\n",
       "      <td>...</td>\n",
       "      <td>0.646</td>\n",
       "      <td>2.77</td>\n",
       "      <td>2.59</td>\n",
       "      <td>13.0</td>\n",
       "      <td>0.477</td>\n",
       "      <td>133.0</td>\n",
       "      <td>66.7</td>\n",
       "      <td>90.0</td>\n",
       "      <td>44.6</td>\n",
       "      <td>1</td>\n",
       "    </tr>\n",
       "    <tr>\n",
       "      <th>3</th>\n",
       "      <td>2.26</td>\n",
       "      <td>0.2500</td>\n",
       "      <td>0.9750</td>\n",
       "      <td>0.467</td>\n",
       "      <td>0.661</td>\n",
       "      <td>1.100</td>\n",
       "      <td>0.194</td>\n",
       "      <td>0.439</td>\n",
       "      <td>0.634</td>\n",
       "      <td>0.2780</td>\n",
       "      <td>...</td>\n",
       "      <td>0.605</td>\n",
       "      <td>2.33</td>\n",
       "      <td>2.42</td>\n",
       "      <td>-15.3</td>\n",
       "      <td>0.337</td>\n",
       "      <td>99.4</td>\n",
       "      <td>51.0</td>\n",
       "      <td>85.7</td>\n",
       "      <td>53.4</td>\n",
       "      <td>1</td>\n",
       "    </tr>\n",
       "    <tr>\n",
       "      <th>4</th>\n",
       "      <td>2.41</td>\n",
       "      <td>0.5730</td>\n",
       "      <td>0.0142</td>\n",
       "      <td>0.231</td>\n",
       "      <td>0.483</td>\n",
       "      <td>0.806</td>\n",
       "      <td>0.252</td>\n",
       "      <td>0.323</td>\n",
       "      <td>0.575</td>\n",
       "      <td>0.0575</td>\n",
       "      <td>...</td>\n",
       "      <td>0.450</td>\n",
       "      <td>2.00</td>\n",
       "      <td>1.97</td>\n",
       "      <td>18.2</td>\n",
       "      <td>0.512</td>\n",
       "      <td>99.5</td>\n",
       "      <td>44.6</td>\n",
       "      <td>85.2</td>\n",
       "      <td>36.9</td>\n",
       "      <td>0</td>\n",
       "    </tr>\n",
       "  </tbody>\n",
       "</table>\n",
       "<p>5 rows × 6374 columns</p>\n",
       "</div>"
      ],
      "text/plain": [
       "      1       2       3      4      5      6      7      8      9      10 ...  \\\n",
       "0  2.32  0.0769  0.5600  0.554  0.666  1.010  0.112  0.347  0.458  0.3630 ...   \n",
       "1  2.86  0.9780  0.8390  0.776  1.620  2.340  0.846  0.723  1.570  0.5590 ...   \n",
       "2  2.03  0.7420  0.0000  0.932  1.160  1.450  0.230  0.285  0.515  0.2640 ...   \n",
       "3  2.26  0.2500  0.9750  0.467  0.661  1.100  0.194  0.439  0.634  0.2780 ...   \n",
       "4  2.41  0.5730  0.0142  0.231  0.483  0.806  0.252  0.323  0.575  0.0575 ...   \n",
       "\n",
       "    6365  6366  6367  6368   6369   6370  6371   6372  6373  y  \n",
       "0  0.879  1.98  2.02 -18.5  0.458   91.3  49.6   78.1  49.1  0  \n",
       "1  0.490  2.45  2.60 -13.5  0.437  155.0  79.7  132.0  52.4  1  \n",
       "2  0.646  2.77  2.59  13.0  0.477  133.0  66.7   90.0  44.6  1  \n",
       "3  0.605  2.33  2.42 -15.3  0.337   99.4  51.0   85.7  53.4  1  \n",
       "4  0.450  2.00  1.97  18.2  0.512   99.5  44.6   85.2  36.9  0  \n",
       "\n",
       "[5 rows x 6374 columns]"
      ]
     },
     "execution_count": 9,
     "metadata": {},
     "output_type": "execute_result"
    }
   ],
   "source": [
    "train.head() "
   ]
  },
  {
   "cell_type": "code",
   "execution_count": 10,
   "metadata": {
    "collapsed": false
   },
   "outputs": [
    {
     "name": "stderr",
     "output_type": "stream",
     "text": [
      "C:\\Users\\Rahul\\Anaconda3\\lib\\site-packages\\sklearn\\preprocessing\\data.py:167: UserWarning: Numerical issues were encountered when centering the data and might not be solved. Dataset may contain too large values. You may need to prescale your features.\n",
      "  warnings.warn(\"Numerical issues were encountered \"\n"
     ]
    }
   ],
   "source": [
    "X_train = np.array(train.drop(['y'], 1))\n",
    "X_val = np.array(devel.drop(['y'], 1))\n",
    "X_train = preprocessing.scale(X_train)\n",
    "X_val = preprocessing.scale(X_val)\n",
    "#df.fillna(value=-99999, inplace=True)\n",
    "#df.dropna(inplace=True)\n",
    "y_train = np.array(train['y'])\n",
    "y_val = np.array(devel['y'])"
   ]
  },
  {
   "cell_type": "code",
   "execution_count": 11,
   "metadata": {
    "collapsed": false
   },
   "outputs": [
    {
     "data": {
      "text/plain": [
       "dtype('float64')"
      ]
     },
     "execution_count": 11,
     "metadata": {},
     "output_type": "execute_result"
    }
   ],
   "source": [
    "x = np.array(X_train[:,6372])\n",
    "x.dtype"
   ]
  },
  {
   "cell_type": "code",
   "execution_count": 13,
   "metadata": {
    "collapsed": false
   },
   "outputs": [],
   "source": [
    "X_t, X_v, y_t, y_v = cross_validation.train_test_split(X_train, y_train, test_size=0.4)\n"
   ]
  },
  {
   "cell_type": "code",
   "execution_count": 14,
   "metadata": {
    "collapsed": false
   },
   "outputs": [
    {
     "name": "stdout",
     "output_type": "stream",
     "text": [
      "iteration: 0  loss: 0.777047802391\n",
      "train accuracy: 0.686414253898\n",
      "val accuracy: 0.688042752171\n",
      "devel accuracy: 0.577183098592\n"
     ]
    }
   ],
   "source": [
    "# Linear model\n",
    "D = X_train.shape[1] #Number of features\n",
    "K = max(y_train)+1 #Number of classes assuming class index starts from 0\n",
    "\n",
    "# Start with an initialize parameters randomly\n",
    "W = 0.01 * np.random.randn(D,K)\n",
    "b = np.zeros((1,K))\n",
    "\n",
    "# Initial values from hyperparameter\n",
    "reg = 1e-3 # regularization strength\n",
    "\n",
    "#For simplicity, we will not optimize this using grid search here.b#Perform batch SGD using backprop\n",
    "\n",
    "#For simplicity we will take the batch size to be the same as number of examples\n",
    "num_examples = X_train.shape[0]\n",
    "\n",
    "#Initial value for the Gradient Descent Parameter\n",
    "step_size = 1e-2 #Also called learning rate\n",
    "\n",
    "#For simplicity, we will not hand tune this algorithm parameter as well.\n",
    "\n",
    "# gradient descent loop\n",
    "for i in range(10):\n",
    "  \n",
    "    # evaluate class scores, [N x K]\n",
    "    scores = np.dot(X_train, W) + b \n",
    "  \n",
    "    # compute the class probabilities\n",
    "    exp_scores = np.exp(scores)\n",
    "    probs = exp_scores / np.sum(exp_scores, axis=1, keepdims=True) # [N x K]\n",
    "  \n",
    "    # compute the loss: average cross-entropy loss and regularization\n",
    "    corect_logprobs = -np.log(probs[range(num_examples),y_train])\n",
    "    data_loss = np.sum(corect_logprobs)/num_examples\n",
    "    reg_loss = 0.5*reg*np.sum(W*W)\n",
    "    loss = data_loss + reg_loss\n",
    "    if i % 100 == 0:\n",
    "        print(\"iteration:\",i, \" loss:\",loss)\n",
    "  \n",
    "    # compute the gradient on scores\n",
    "    dscores = probs\n",
    "    dscores[range(num_examples),y_train] -= 1\n",
    "    dscores /= num_examples\n",
    "  \n",
    "    # backpropate the gradient to the parameters (W,b)\n",
    "    dW = np.dot(X_train.T, dscores)\n",
    "    db = np.sum(dscores, axis=0, keepdims=True)\n",
    "  \n",
    "    dW += reg*W # regularization gradient\n",
    "  \n",
    "    # perform a parameter update\n",
    "    W += -step_size * dW\n",
    "    b += -step_size * db\n",
    "\n",
    "\n",
    "scores = np.dot(X_t, W) + b\n",
    "predicted_class = np.argmax(scores, axis=1)\n",
    "print(\"train accuracy:\",(np.mean(predicted_class == y_t)))\n",
    "\n",
    "\n",
    "scores = np.dot(X_v, W) + b\n",
    "predicted_class = np.argmax(scores, axis=1)\n",
    "print(\"val accuracy:\",(np.mean(predicted_class == y_v)))\n",
    "\n",
    "\n",
    "scores = np.dot(X_val, W) + b\n",
    "predicted_class = np.argmax(scores, axis=1)\n",
    "print(\"devel accuracy:\",(np.mean(predicted_class == y_val)))"
   ]
  },
  {
   "cell_type": "code",
   "execution_count": 23,
   "metadata": {
    "collapsed": false
   },
   "outputs": [
    {
     "name": "stdout",
     "output_type": "stream",
     "text": [
      "devel accuracy: 0.0\n"
     ]
    }
   ],
   "source": [
    "scores = np.dot(X_val, W) + b\n",
    "predicted_class = np.argmax(scores, axis=1)\n",
    "print(\"devel accuracy:\",(np.mean(predicted_class == y_val)))"
   ]
  },
  {
   "cell_type": "code",
   "execution_count": 20,
   "metadata": {
    "collapsed": false
   },
   "outputs": [
    {
     "name": "stdout",
     "output_type": "stream",
     "text": [
      "test accuracy: 0.600563380282\n"
     ]
    }
   ],
   "source": [
    "scores = np.dot(X_val, W) + b\n",
    "predicted_class_vl = np.argmax(scores, axis=1)\n",
    "print(\"test accuracy:\",(np.mean(predicted_class_vl == y_val)))"
   ]
  },
  {
   "cell_type": "code",
   "execution_count": 21,
   "metadata": {
    "collapsed": false
   },
   "outputs": [
    {
     "name": "stdout",
     "output_type": "stream",
     "text": [
      "train accuracy: 0.947087119188\n"
     ]
    }
   ],
   "source": [
    "scores = np.dot(X_train, W) + b\n",
    "predicted_class_tr = np.argmax(scores, axis=1)\n",
    "print(\"train accuracy:\",(np.mean(predicted_class_tr == y_train)))"
   ]
  },
  {
   "cell_type": "code",
   "execution_count": 22,
   "metadata": {
    "collapsed": false
   },
   "outputs": [
    {
     "data": {
      "text/plain": [
       "0.93680555555555556"
      ]
     },
     "execution_count": 22,
     "metadata": {},
     "output_type": "execute_result"
    }
   ],
   "source": [
    "from sklearn.metrics import recall_score\n",
    "b=recall_score(y_train, predicted_class_tr, labels=None, pos_label=0, average='binary', sample_weight=None)\n",
    "b"
   ]
  },
  {
   "cell_type": "code",
   "execution_count": 25,
   "metadata": {
    "collapsed": false
   },
   "outputs": [
    {
     "data": {
      "text/plain": [
       "0.51169590643274854"
      ]
     },
     "execution_count": 25,
     "metadata": {},
     "output_type": "execute_result"
    }
   ],
   "source": [
    "b=recall_score(y_val, predicted_class_vl, labels=None, pos_label=0, average='binary', sample_weight=None)\n",
    "b"
   ]
  },
  {
   "cell_type": "code",
   "execution_count": 26,
   "metadata": {
    "collapsed": false
   },
   "outputs": [
    {
     "data": {
      "text/plain": [
       "array([[1349,   91],\n",
       "       [ 107, 2195]])"
      ]
     },
     "execution_count": 26,
     "metadata": {},
     "output_type": "execute_result"
    }
   ],
   "source": [
    "from sklearn.metrics import confusion_matrix\n",
    "a=confusion_matrix(y_train, predicted_class_tr, labels=None)\n",
    "a"
   ]
  },
  {
   "cell_type": "code",
   "execution_count": 27,
   "metadata": {
    "collapsed": false
   },
   "outputs": [
    {
     "data": {
      "text/plain": [
       "array([[ 700,  668],\n",
       "       [ 750, 1432]])"
      ]
     },
     "execution_count": 27,
     "metadata": {},
     "output_type": "execute_result"
    }
   ],
   "source": [
    "from sklearn.metrics import confusion_matrix\n",
    "a=confusion_matrix(y_val, predicted_class_vl, labels=None)\n",
    "a"
   ]
  },
  {
   "cell_type": "code",
   "execution_count": null,
   "metadata": {
    "collapsed": true
   },
   "outputs": [],
   "source": []
  }
 ],
 "metadata": {
  "anaconda-cloud": {},
  "kernelspec": {
   "display_name": "Python [default]",
   "language": "python",
   "name": "python3"
  },
  "language_info": {
   "codemirror_mode": {
    "name": "ipython",
    "version": 3
   },
   "file_extension": ".py",
   "mimetype": "text/x-python",
   "name": "python",
   "nbconvert_exporter": "python",
   "pygments_lexer": "ipython3",
   "version": "3.5.2"
  }
 },
 "nbformat": 4,
 "nbformat_minor": 1
}
